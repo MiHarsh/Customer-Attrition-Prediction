{
 "cells": [
  {
   "cell_type": "code",
   "execution_count": 1,
   "id": "dominant-inventory",
   "metadata": {},
   "outputs": [],
   "source": [
    "import numpy as np\n",
    "import pandas as pd"
   ]
  },
  {
   "cell_type": "code",
   "execution_count": 2,
   "id": "interior-poverty",
   "metadata": {},
   "outputs": [
    {
     "data": {
      "text/plain": [
       "['submission_gbc.csv',\n",
       " 'Untitled.ipynb',\n",
       " '.ipynb_checkpoints',\n",
       " 'submission_try.csv',\n",
       " 'submission_dtc_5.csv',\n",
       " 'submission_svm_linear.csv',\n",
       " 'submission_dtc.csv',\n",
       " 'submission_gbc_1.csv',\n",
       " 'submission_scaled.csv',\n",
       " 'lgb_base.csv']"
      ]
     },
     "execution_count": 2,
     "metadata": {},
     "output_type": "execute_result"
    }
   ],
   "source": [
    "import os\n",
    "os.listdir()"
   ]
  },
  {
   "cell_type": "code",
   "execution_count": 3,
   "id": "mature-textbook",
   "metadata": {},
   "outputs": [],
   "source": [
    "csvs = ['submission_gbc.csv',\n",
    " 'submission_try.csv',\n",
    " 'submission_dtc_5.csv',\n",
    " 'submission_svm_linear.csv',\n",
    " 'submission_dtc.csv',\n",
    " 'submission_gbc_1.csv',\n",
    " 'submission_scaled.csv',\n",
    " 'lgb_base.csv']"
   ]
  },
  {
   "cell_type": "code",
   "execution_count": 5,
   "id": "subjective-poison",
   "metadata": {},
   "outputs": [
    {
     "data": {
      "text/html": [
       "<div>\n",
       "<style scoped>\n",
       "    .dataframe tbody tr th:only-of-type {\n",
       "        vertical-align: middle;\n",
       "    }\n",
       "\n",
       "    .dataframe tbody tr th {\n",
       "        vertical-align: top;\n",
       "    }\n",
       "\n",
       "    .dataframe thead th {\n",
       "        text-align: right;\n",
       "    }\n",
       "</style>\n",
       "<table border=\"1\" class=\"dataframe\">\n",
       "  <thead>\n",
       "    <tr style=\"text-align: right;\">\n",
       "      <th></th>\n",
       "      <th>ID</th>\n",
       "      <th>CustomerAttrition</th>\n",
       "    </tr>\n",
       "  </thead>\n",
       "  <tbody>\n",
       "    <tr>\n",
       "      <th>0</th>\n",
       "      <td>WMORTPCG3HTIPEFSGUFY</td>\n",
       "      <td>0</td>\n",
       "    </tr>\n",
       "    <tr>\n",
       "      <th>1</th>\n",
       "      <td>GBLPEA16C3KGBO57KEFO</td>\n",
       "      <td>0</td>\n",
       "    </tr>\n",
       "    <tr>\n",
       "      <th>2</th>\n",
       "      <td>IDCQS0CO5P29AMKY3LO1</td>\n",
       "      <td>0</td>\n",
       "    </tr>\n",
       "  </tbody>\n",
       "</table>\n",
       "</div>"
      ],
      "text/plain": [
       "                     ID  CustomerAttrition\n",
       "0  WMORTPCG3HTIPEFSGUFY                  0\n",
       "1  GBLPEA16C3KGBO57KEFO                  0\n",
       "2  IDCQS0CO5P29AMKY3LO1                  0"
      ]
     },
     "execution_count": 5,
     "metadata": {},
     "output_type": "execute_result"
    }
   ],
   "source": [
    "s1 = pd.read_csv('lgb_base.csv')\n",
    "s1.replace({'Yes':1, 'No':0}, inplace=True)\n",
    "s1.head(3)"
   ]
  },
  {
   "cell_type": "code",
   "execution_count": 6,
   "id": "center-pursuit",
   "metadata": {},
   "outputs": [],
   "source": [
    "for cs in csvs:\n",
    "    op = pd.read_csv(cs)\n",
    "    op.replace({'Yes':1, 'No':0}, inplace=True)\n",
    "    s1['CustomerAttrition']+= op['CustomerAttrition']\n",
    "\n",
    "s1['CustomerAttrition'] = 1*(s1['CustomerAttrition'] >= len(csvs)//2)\n",
    "s1.replace({1:'Yes', 0:'No'}, inplace=True)"
   ]
  },
  {
   "cell_type": "code",
   "execution_count": 8,
   "id": "skilled-factory",
   "metadata": {},
   "outputs": [],
   "source": [
    "s1.to_csv(\"ensemble.csv\",index=False)"
   ]
  },
  {
   "cell_type": "code",
   "execution_count": null,
   "id": "female-stanley",
   "metadata": {},
   "outputs": [],
   "source": []
  }
 ],
 "metadata": {
  "kernelspec": {
   "display_name": "Python 3",
   "language": "python",
   "name": "python3"
  },
  "language_info": {
   "codemirror_mode": {
    "name": "ipython",
    "version": 3
   },
   "file_extension": ".py",
   "mimetype": "text/x-python",
   "name": "python",
   "nbconvert_exporter": "python",
   "pygments_lexer": "ipython3",
   "version": "3.8.5"
  }
 },
 "nbformat": 4,
 "nbformat_minor": 5
}
